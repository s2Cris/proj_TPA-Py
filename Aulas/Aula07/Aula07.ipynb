{
 "cells": [
  {
   "cell_type": "markdown",
   "metadata": {},
   "source": [
    "# Aula 07 - Manipulação de Strings com Python"
   ]
  },
  {
   "cell_type": "markdown",
   "metadata": {},
   "source": [
    "> Uma variável primária de texto é chamada de char ou caracter possibilitando o armazenamento de 8 bit de memória. Quando necessitamos de um conujunto de caracteres utilizamos um objetom ou variáveis compostas no caso da maioria das linguagens chamadas de string. Vamos ver como se aplica."
   ]
  },
  {
   "cell_type": "code",
   "execution_count": 24,
   "metadata": {},
   "outputs": [
    {
     "name": "stdout",
     "output_type": "stream",
     "text": [
      "Boa tarde a todos\n",
      "Boa tarde\n"
     ]
    }
   ],
   "source": [
    "frase = \"Boa tarde a todos\"\n",
    "print(frase)\n",
    "saudacao = frase[0:9]\n",
    "print(saudacao)"
   ]
  },
  {
   "cell_type": "code",
   "execution_count": 18,
   "metadata": {},
   "outputs": [
    {
     "name": "stdout",
     "output_type": "stream",
     "text": [
      "<class 'str'>\n",
      "<class 'str'>\n"
     ]
    }
   ],
   "source": [
    "print(type(frase))\n",
    "print(type(saudacao))"
   ]
  },
  {
   "cell_type": "code",
   "execution_count": 23,
   "metadata": {},
   "outputs": [
    {
     "name": "stdout",
     "output_type": "stream",
     "text": [
      "3\n",
      "1\n"
     ]
    }
   ],
   "source": [
    "print(frase.count(' '))\n",
    "print(saudacao.count(' '))"
   ]
  },
  {
   "cell_type": "code",
   "execution_count": 25,
   "metadata": {},
   "outputs": [
    {
     "name": "stdout",
     "output_type": "stream",
     "text": [
      "17\n",
      "9\n"
     ]
    }
   ],
   "source": [
    "print(len(frase))\n",
    "print(len(saudacao))"
   ]
  },
  {
   "cell_type": "code",
   "execution_count": 29,
   "metadata": {},
   "outputs": [
    {
     "name": "stdout",
     "output_type": "stream",
     "text": [
      "Boa tarde galerinha!\n",
      "Boa noite\n"
     ]
    }
   ],
   "source": [
    "frase = frase.replace(\"a todos\",\"galerinha!\")\n",
    "print(frase)\n",
    "saudacao = saudacao.replace(\"tarde\", \"noite\")\n",
    "print(saudacao)"
   ]
  },
  {
   "cell_type": "code",
   "execution_count": 32,
   "metadata": {},
   "outputs": [
    {
     "name": "stdout",
     "output_type": "stream",
     "text": [
      "['B', 'o', 'a', ' ', 't', 'a', 'r', 'd', 'e', ' ', 'g', 'a', 'l', 'e', 'r', 'i', 'n', 'h', 'a', '!']\n"
     ]
    }
   ],
   "source": [
    "frase = [i for i in frase]\n",
    "print(frase)"
   ]
  },
  {
   "cell_type": "code",
   "execution_count": 35,
   "metadata": {},
   "outputs": [
    {
     "name": "stdout",
     "output_type": "stream",
     "text": [
      "B\n",
      "o\n",
      "a\n",
      " \n",
      "t\n",
      "a\n",
      "r\n",
      "d\n",
      "e\n",
      " \n",
      "g\n",
      "a\n",
      "l\n",
      "e\n",
      "r\n",
      "i\n",
      "n\n",
      "h\n",
      "a\n",
      "!\n"
     ]
    }
   ],
   "source": [
    "for x in frase:\n",
    "    print(x)"
   ]
  },
  {
   "cell_type": "markdown",
   "metadata": {},
   "source": [
    "## Exercício 1\n",
    "> Crie um código para a seguinte frase: \"Sabia que o sábia sabia assobiar?\" reparticionando por espaços ,após isso crie um print format para visualizar cada palavra em uma coluna separada."
   ]
  },
  {
   "cell_type": "code",
   "execution_count": 36,
   "metadata": {},
   "outputs": [
    {
     "name": "stdout",
     "output_type": "stream",
     "text": [
      "['S', 'a', 'b', 'i', 'a', ' ', 'q', 'u', 'e', ' ', 'o', ' ', 's', 'á', 'b', 'i', 'a', ' ', 's', 'a', 'b', 'i', 'a', ' ', 'a', 's', 's', 'o', 'b', 'i', 'a', 'r', '?']\n"
     ]
    }
   ],
   "source": [
    "frase = \"Sabia que o sábia sabia assobiar?\"\n",
    "frase = [x for x in frase]\n",
    "print(frase)"
   ]
  }
 ],
 "metadata": {
  "kernelspec": {
   "display_name": "Python 3",
   "language": "python",
   "name": "python3"
  },
  "language_info": {
   "codemirror_mode": {
    "name": "ipython",
    "version": 3
   },
   "file_extension": ".py",
   "mimetype": "text/x-python",
   "name": "python",
   "nbconvert_exporter": "python",
   "pygments_lexer": "ipython3",
   "version": "3.12.2"
  }
 },
 "nbformat": 4,
 "nbformat_minor": 2
}
