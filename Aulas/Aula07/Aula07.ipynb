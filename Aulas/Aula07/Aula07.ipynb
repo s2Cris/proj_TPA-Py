{
 "cells": [
  {
   "cell_type": "markdown",
   "metadata": {},
   "source": [
    "# Aula 07 - Manipulação de Strings com Python"
   ]
  },
  {
   "cell_type": "markdown",
   "metadata": {},
   "source": [
    "> Uma variável primária de texto é chamada de char ou caracter possibilitando o armazenamento de 8 bit de memória. Quando necessitamos de um conujunto de caracteres utilizamos um objetom ou variáveis compostas no caso da maioria das linguagens chamadas de string. Vamos ver como se aplica."
   ]
  },
  {
   "cell_type": "code",
   "execution_count": 24,
   "metadata": {},
   "outputs": [
    {
     "name": "stdout",
     "output_type": "stream",
     "text": [
      "Boa tarde a todos\n",
      "Boa tarde\n"
     ]
    }
   ],
   "source": [
    "frase = \"Boa tarde a todos\"\n",
    "print(frase)\n",
    "saudacao = frase[0:9]\n",
    "print(saudacao)"
   ]
  },
  {
   "cell_type": "code",
   "execution_count": 18,
   "metadata": {},
   "outputs": [
    {
     "name": "stdout",
     "output_type": "stream",
     "text": [
      "<class 'str'>\n",
      "<class 'str'>\n"
     ]
    }
   ],
   "source": [
    "print(type(frase))\n",
    "print(type(saudacao))"
   ]
  },
  {
   "cell_type": "code",
   "execution_count": 23,
   "metadata": {},
   "outputs": [
    {
     "name": "stdout",
     "output_type": "stream",
     "text": [
      "3\n",
      "1\n"
     ]
    }
   ],
   "source": [
    "print(frase.count(' '))\n",
    "print(saudacao.count(' '))"
   ]
  },
  {
   "cell_type": "code",
   "execution_count": 25,
   "metadata": {},
   "outputs": [
    {
     "name": "stdout",
     "output_type": "stream",
     "text": [
      "17\n",
      "9\n"
     ]
    }
   ],
   "source": [
    "print(len(frase))\n",
    "print(len(saudacao))"
   ]
  },
  {
   "cell_type": "code",
   "execution_count": 29,
   "metadata": {},
   "outputs": [
    {
     "name": "stdout",
     "output_type": "stream",
     "text": [
      "Boa tarde galerinha!\n",
      "Boa noite\n"
     ]
    }
   ],
   "source": [
    "frase = frase.replace(\"a todos\",\"galerinha!\")\n",
    "print(frase)\n",
    "saudacao = saudacao.replace(\"tarde\", \"noite\")\n",
    "print(saudacao)"
   ]
  },
  {
   "cell_type": "code",
   "execution_count": 32,
   "metadata": {},
   "outputs": [
    {
     "name": "stdout",
     "output_type": "stream",
     "text": [
      "['B', 'o', 'a', ' ', 't', 'a', 'r', 'd', 'e', ' ', 'g', 'a', 'l', 'e', 'r', 'i', 'n', 'h', 'a', '!']\n"
     ]
    }
   ],
   "source": [
    "frase = [i for i in frase]\n",
    "print(frase)"
   ]
  },
  {
   "cell_type": "code",
   "execution_count": 35,
   "metadata": {},
   "outputs": [
    {
     "name": "stdout",
     "output_type": "stream",
     "text": [
      "B\n",
      "o\n",
      "a\n",
      " \n",
      "t\n",
      "a\n",
      "r\n",
      "d\n",
      "e\n",
      " \n",
      "g\n",
      "a\n",
      "l\n",
      "e\n",
      "r\n",
      "i\n",
      "n\n",
      "h\n",
      "a\n",
      "!\n"
     ]
    }
   ],
   "source": [
    "for x in frase:\n",
    "    print(x)"
   ]
  },
  {
   "cell_type": "markdown",
   "metadata": {},
   "source": [
    "## Exercício 1\n",
    "> Crie um código para a seguinte frase: \"Sabia que o sábia sabia assobiar?\" reparticionando por espaços ,após isso crie um print format para visualizar cada palavra em uma coluna separada."
   ]
  },
  {
   "cell_type": "code",
   "execution_count": 36,
   "metadata": {},
   "outputs": [
    {
     "name": "stdout",
     "output_type": "stream",
     "text": [
      "['S', 'a', 'b', 'i', 'a', ' ', 'q', 'u', 'e', ' ', 'o', ' ', 's', 'á', 'b', 'i', 'a', ' ', 's', 'a', 'b', 'i', 'a', ' ', 'a', 's', 's', 'o', 'b', 'i', 'a', 'r', '?']\n"
     ]
    }
   ],
   "source": [
    "frase = \"Sabia que o sábia sabia assobiar?\"\n",
    "frase = [x for x in frase]\n",
    "print(frase)"
   ]
  },
  {
   "cell_type": "markdown",
   "metadata": {},
   "source": [
    "## Correção\n"
   ]
  },
  {
   "cell_type": "code",
   "execution_count": 1,
   "metadata": {},
   "outputs": [
    {
     "name": "stdout",
     "output_type": "stream",
     "text": [
      "S q o s s a \n",
      "a u   a a s \n",
      "b e   b b s \n",
      "i     i i o \n",
      "a     á a b \n",
      "          i \n",
      "          a \n",
      "          r \n"
     ]
    }
   ],
   "source": [
    "frase = \"Sabia que o sabiá sabia assobiar\"\n",
    "\n",
    "palavras = frase.split()\n",
    "\n",
    "for i in range(max(len(x) for x in palavras)):\n",
    "    for y in palavras:\n",
    "        print(y[i] if i < len(y) else ' ', end = ' ')\n",
    "\n",
    "    print()"
   ]
  },
  {
   "cell_type": "code",
   "execution_count": 2,
   "metadata": {},
   "outputs": [
    {
     "name": "stdout",
     "output_type": "stream",
     "text": [
      "S   q   o   s   s   a\n",
      "a   u       a   a   s\n",
      "b   e       b   b   s\n",
      "i           i   i   o\n",
      "a           á   a   b\n",
      "                    i\n",
      "                    a\n",
      "                    r\n"
     ]
    }
   ],
   "source": [
    "for i in range(max (len (x) for x in palavras)):\n",
    "    print('   '.join(x[i] if i<len(x) else ' ' for x in palavras))"
   ]
  },
  {
   "cell_type": "markdown",
   "metadata": {},
   "source": [
    "# Introdução a Numpy"
   ]
  },
  {
   "cell_type": "markdown",
   "metadata": {},
   "source": [
    "> Numpy é uma biblioteca python para desenvolvimento de matrizes. tem por objetivos facilitar na criação de algoritmos matemáticos para solucionar paradgimas avançados em relação a arrays. "
   ]
  },
  {
   "cell_type": "code",
   "execution_count": 3,
   "metadata": {},
   "outputs": [
    {
     "name": "stdout",
     "output_type": "stream",
     "text": [
      "Collecting numpy\n",
      "  Downloading numpy-2.1.2-cp311-cp311-win_amd64.whl.metadata (59 kB)\n",
      "     ---------------------------------------- 0.0/59.7 kB ? eta -:--:--\n",
      "     ------ --------------------------------- 10.2/59.7 kB ? eta -:--:--\n",
      "     ------------- ------------------------ 20.5/59.7 kB 162.5 kB/s eta 0:00:01\n",
      "     ------------- ------------------------ 20.5/59.7 kB 162.5 kB/s eta 0:00:01\n",
      "     ------------- ------------------------ 20.5/59.7 kB 162.5 kB/s eta 0:00:01\n",
      "     -------------------------- ----------- 41.0/59.7 kB 140.3 kB/s eta 0:00:01\n",
      "     -------------------------------- ----- 51.2/59.7 kB 163.8 kB/s eta 0:00:01\n",
      "     -------------------------------------- 59.7/59.7 kB 176.2 kB/s eta 0:00:00\n",
      "Downloading numpy-2.1.2-cp311-cp311-win_amd64.whl (12.9 MB)\n",
      "   ---------------------------------------- 0.0/12.9 MB ? eta -:--:--\n",
      "    --------------------------------------- 0.2/12.9 MB 6.1 MB/s eta 0:00:03\n",
      "   - -------------------------------------- 0.5/12.9 MB 5.3 MB/s eta 0:00:03\n",
      "   -- ------------------------------------- 0.8/12.9 MB 6.5 MB/s eta 0:00:02\n",
      "   --- ------------------------------------ 1.1/12.9 MB 6.5 MB/s eta 0:00:02\n",
      "   ---- ----------------------------------- 1.4/12.9 MB 6.3 MB/s eta 0:00:02\n",
      "   ---- ----------------------------------- 1.6/12.9 MB 5.6 MB/s eta 0:00:03\n",
      "   ----- ---------------------------------- 1.9/12.9 MB 5.7 MB/s eta 0:00:02\n",
      "   ------- -------------------------------- 2.3/12.9 MB 6.0 MB/s eta 0:00:02\n",
      "   -------- ------------------------------- 2.8/12.9 MB 6.5 MB/s eta 0:00:02\n",
      "   ---------- ----------------------------- 3.3/12.9 MB 6.9 MB/s eta 0:00:02\n",
      "   ----------- ---------------------------- 3.8/12.9 MB 7.3 MB/s eta 0:00:02\n",
      "   ------------- -------------------------- 4.4/12.9 MB 7.7 MB/s eta 0:00:02\n",
      "   --------------- ------------------------ 4.9/12.9 MB 8.0 MB/s eta 0:00:02\n",
      "   ---------------- ----------------------- 5.4/12.9 MB 8.4 MB/s eta 0:00:01\n",
      "   ------------------ --------------------- 6.0/12.9 MB 8.5 MB/s eta 0:00:01\n",
      "   -------------------- ------------------- 6.5/12.9 MB 8.7 MB/s eta 0:00:01\n",
      "   --------------------- ------------------ 7.1/12.9 MB 8.8 MB/s eta 0:00:01\n",
      "   ----------------------- ---------------- 7.6/12.9 MB 9.0 MB/s eta 0:00:01\n",
      "   ------------------------- -------------- 8.2/12.9 MB 9.3 MB/s eta 0:00:01\n",
      "   -------------------------- ------------- 8.6/12.9 MB 9.3 MB/s eta 0:00:01\n",
      "   --------------------------- ------------ 8.8/12.9 MB 8.9 MB/s eta 0:00:01\n",
      "   ---------------------------- ----------- 9.3/12.9 MB 9.1 MB/s eta 0:00:01\n",
      "   ------------------------------ --------- 9.7/12.9 MB 9.1 MB/s eta 0:00:01\n",
      "   -------------------------------- ------- 10.3/12.9 MB 9.4 MB/s eta 0:00:01\n",
      "   --------------------------------- ------ 10.8/12.9 MB 9.6 MB/s eta 0:00:01\n",
      "   ---------------------------------- ----- 11.2/12.9 MB 9.8 MB/s eta 0:00:01\n",
      "   ----------------------------------- ---- 11.5/12.9 MB 10.1 MB/s eta 0:00:01\n",
      "   ------------------------------------ --- 11.8/12.9 MB 10.4 MB/s eta 0:00:01\n",
      "   -------------------------------------- - 12.3/12.9 MB 10.2 MB/s eta 0:00:01\n",
      "   ---------------------------------------  12.7/12.9 MB 10.2 MB/s eta 0:00:01\n",
      "   ---------------------------------------  12.9/12.9 MB 10.2 MB/s eta 0:00:01\n",
      "   ---------------------------------------  12.9/12.9 MB 10.2 MB/s eta 0:00:01\n",
      "   ---------------------------------------  12.9/12.9 MB 10.2 MB/s eta 0:00:01\n",
      "   ---------------------------------------- 12.9/12.9 MB 8.7 MB/s eta 0:00:00\n",
      "Installing collected packages: numpy\n",
      "Successfully installed numpy-2.1.2\n",
      "Note: you may need to restart the kernel to use updated packages.\n"
     ]
    },
    {
     "name": "stderr",
     "output_type": "stream",
     "text": [
      "\n",
      "[notice] A new release of pip is available: 24.0 -> 24.2\n",
      "[notice] To update, run: C:\\Users\\march\\AppData\\Local\\Microsoft\\WindowsApps\\PythonSoftwareFoundation.Python.3.11_qbz5n2kfra8p0\\python.exe -m pip install --upgrade pip\n"
     ]
    }
   ],
   "source": [
    "pip install numpy"
   ]
  },
  {
   "cell_type": "code",
   "execution_count": 4,
   "metadata": {},
   "outputs": [
    {
     "name": "stdout",
     "output_type": "stream",
     "text": [
      "[1 2 3]\n"
     ]
    }
   ],
   "source": [
    "import numpy as np\n",
    "a = np.array([1,2,3])\n",
    "print(a)"
   ]
  },
  {
   "cell_type": "code",
   "execution_count": 5,
   "metadata": {},
   "outputs": [
    {
     "name": "stdout",
     "output_type": "stream",
     "text": [
      "[[1 2 3]\n",
      " [4 5 6]]\n"
     ]
    }
   ],
   "source": [
    "b = np.array([(1,2,3), (4,5,6)])\n",
    "print(b)"
   ]
  },
  {
   "cell_type": "markdown",
   "metadata": {},
   "source": [
    "> Para demostrar '1'"
   ]
  },
  {
   "cell_type": "code",
   "execution_count": 6,
   "metadata": {},
   "outputs": [
    {
     "name": "stdout",
     "output_type": "stream",
     "text": [
      "[[1. 1. 1.]\n",
      " [1. 1. 1.]\n",
      " [1. 1. 1.]]\n"
     ]
    }
   ],
   "source": [
    "c = np.ones((3,3))\n",
    "print(c)"
   ]
  },
  {
   "cell_type": "markdown",
   "metadata": {},
   "source": [
    "> Para demostrar valores binários"
   ]
  },
  {
   "cell_type": "code",
   "execution_count": 7,
   "metadata": {},
   "outputs": [
    {
     "name": "stdout",
     "output_type": "stream",
     "text": [
      "[[1. 0. 0. 0. 0.]\n",
      " [0. 1. 0. 0. 0.]\n",
      " [0. 0. 1. 0. 0.]\n",
      " [0. 0. 0. 1. 0.]\n",
      " [0. 0. 0. 0. 1.]]\n"
     ]
    }
   ],
   "source": [
    "d = np.eye(5)\n",
    "print(d)"
   ]
  },
  {
   "cell_type": "markdown",
   "metadata": {},
   "source": [
    "> Para demostrar o maior valor"
   ]
  },
  {
   "cell_type": "code",
   "execution_count": 8,
   "metadata": {},
   "outputs": [
    {
     "name": "stdout",
     "output_type": "stream",
     "text": [
      "3\n",
      "6\n",
      "1.0\n"
     ]
    }
   ],
   "source": [
    "print(a.max())\n",
    "print(b.max())\n",
    "print(c.max())"
   ]
  },
  {
   "cell_type": "markdown",
   "metadata": {},
   "source": [
    "> Para demostrar o menor valor"
   ]
  },
  {
   "cell_type": "code",
   "execution_count": 9,
   "metadata": {},
   "outputs": [
    {
     "name": "stdout",
     "output_type": "stream",
     "text": [
      "1\n",
      "1\n",
      "1.0\n"
     ]
    }
   ],
   "source": [
    "print(a.min())\n",
    "print(b.min())\n",
    "print(c.min())"
   ]
  },
  {
   "cell_type": "markdown",
   "metadata": {},
   "source": [
    "> Para calcular soma"
   ]
  },
  {
   "cell_type": "code",
   "execution_count": 10,
   "metadata": {},
   "outputs": [
    {
     "name": "stdout",
     "output_type": "stream",
     "text": [
      "6\n",
      "21\n",
      "9.0\n"
     ]
    }
   ],
   "source": [
    "print(a.sum())\n",
    "print(b.sum())\n",
    "print(c.sum())"
   ]
  },
  {
   "cell_type": "markdown",
   "metadata": {},
   "source": [
    "> Para calcular média"
   ]
  },
  {
   "cell_type": "code",
   "execution_count": 11,
   "metadata": {},
   "outputs": [
    {
     "name": "stdout",
     "output_type": "stream",
     "text": [
      "2.0\n",
      "3.5\n",
      "1.0\n"
     ]
    }
   ],
   "source": [
    "print(a.mean())\n",
    "print(b.mean())\n",
    "print(c.mean())"
   ]
  },
  {
   "cell_type": "markdown",
   "metadata": {},
   "source": [
    "> Para desvio padrão"
   ]
  },
  {
   "cell_type": "code",
   "execution_count": 12,
   "metadata": {},
   "outputs": [
    {
     "name": "stdout",
     "output_type": "stream",
     "text": [
      "0.82\n",
      "1.71\n",
      "0.0\n"
     ]
    }
   ],
   "source": [
    "print(round(a.std(),2))\n",
    "print(round(b.std(),2))\n",
    "print(round(c.std(),2))"
   ]
  },
  {
   "cell_type": "markdown",
   "metadata": {},
   "source": [
    "## Exercício 2"
   ]
  },
  {
   "cell_type": "markdown",
   "metadata": {},
   "source": [
    "> Crie uma matriz chamada contar com os números de 0 até 9. Ao final crie uma contagem, média e desvio de padrão dessa matriz. Para adicionar de 0 a 9 utilize o for e depois atribua à matriz."
   ]
  },
  {
   "cell_type": "code",
   "execution_count": 15,
   "metadata": {},
   "outputs": [
    {
     "name": "stdout",
     "output_type": "stream",
     "text": [
      "Contagem: [0 1 2 3 4 5 6 7 8 9]\n",
      "Média: 4.5\n",
      "Desvio de Padrão: 2.87\n"
     ]
    }
   ],
   "source": [
    "contar = np.array([i for i in range(10)])\n",
    "print(\"Contagem:\", contar)\n",
    "print(\"Média:\", contar.mean())\n",
    "print(\"Desvio de Padrão:\", round(contar.std(),2))"
   ]
  }
 ],
 "metadata": {
  "kernelspec": {
   "display_name": "Python 3",
   "language": "python",
   "name": "python3"
  },
  "language_info": {
   "codemirror_mode": {
    "name": "ipython",
    "version": 3
   },
   "file_extension": ".py",
   "mimetype": "text/x-python",
   "name": "python",
   "nbconvert_exporter": "python",
   "pygments_lexer": "ipython3",
   "version": "3.11.9"
  }
 },
 "nbformat": 4,
 "nbformat_minor": 2
}
