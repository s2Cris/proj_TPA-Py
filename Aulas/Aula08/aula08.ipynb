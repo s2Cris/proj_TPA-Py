{
 "cells": [
  {
   "cell_type": "markdown",
   "metadata": {},
   "source": [
    "# Aula08 - Introdução a Estrutura de Dados"
   ]
  },
  {
   "cell_type": "markdown",
   "metadata": {},
   "source": [
    "## Fila (FIFO)"
   ]
  },
  {
   "cell_type": "code",
   "execution_count": 1,
   "metadata": {},
   "outputs": [],
   "source": [
    "class Fila:\n",
    "    def __init__(self):\n",
    "        #Atributo 'fila' é uma lista vazia\n",
    "        self.fila =[]\n",
    "    \n",
    "    def enfileirar(self, item):\n",
    "        # #Adiciona o 'item' como atributo do 'fila'\n",
    "        self.fila.append(item)\n",
    "        print(f'{item} chegou no caixa')\n",
    "    \n",
    "    def vazio(self):\n",
    "        #Retorno True se o comprimento da lista for vazio e False caso acontrário\n",
    "        return len(self.fila) == 0\n",
    "    \n",
    "    def desinfileirar(self):\n",
    "        if not self.vazio():\n",
    "            #Remove com o método pop, o primeiro item da lista 'fila'\n",
    "            item = self.fila.pop(0)\n",
    "            print(f'{item} foi atendido no caixa')\n",
    "            return item\n",
    "        else:\n",
    "            print('A fila está vazia')\n",
    "            return None\n",
    "        \n",
    "    def tamanho(self):\n",
    "        if len(self.fila)==0:\n",
    "            print('O caixa está livre')\n",
    "        else:\n",
    "            print(f'Há somente {len(self.fila)} pessoas na fila')\n"
   ]
  },
  {
   "cell_type": "markdown",
   "metadata": {},
   "source": [
    "## Atividade 1"
   ]
  },
  {
   "cell_type": "markdown",
   "metadata": {},
   "source": [
    "> Joãzinho está no mercado entre Vó Maria e Caique que chegou logo atrás para ir ao caixa. Tendo como fila à estrutura de dados. Adicione os três a essa fila nessa ordem e atenda a Vó Maria, e depois mostre o tamanho da dela"
   ]
  },
  {
   "cell_type": "code",
   "execution_count": 2,
   "metadata": {},
   "outputs": [
    {
     "name": "stdout",
     "output_type": "stream",
     "text": [
      "Vó Maria chegou no caixa\n",
      "Caique chegou no caixa\n",
      "Joãozinho chegou no caixa\n",
      "Vó Maria foi atendido no caixa\n",
      "Há somente 2 pessoas na fila\n"
     ]
    }
   ],
   "source": [
    "fila = Fila()\n",
    "fila.enfileirar('Vó Maria')\n",
    "fila.enfileirar('Joãozinho')\n",
    "fila.enfileirar('Caique')\n",
    "fila.desinfileirar()\n",
    "fila.tamanho()"
   ]
  },
  {
   "cell_type": "markdown",
   "metadata": {},
   "source": [
    "## FIFO utilizando Collections deque"
   ]
  },
  {
   "cell_type": "markdown",
   "metadata": {},
   "source": [
    "## Atividade 2"
   ]
  },
  {
   "cell_type": "code",
   "execution_count": 4,
   "metadata": {},
   "outputs": [],
   "source": [
    "from collections import deque\n",
    "\n",
    "class Farmacia:\n",
    "    def __init__(self):\n",
    "        self.farmacia = deque()\n",
    "\n",
    "    def aguardar(self,nome):\n",
    "        self.farmacia.append(nome)\n",
    "        print(f\"{nome} está na fila\")\n",
    "\n",
    "    def vazio(self):\n",
    "        return len(self.farmacia) == 0\n",
    "    \n",
    "    def atender(self):\n",
    "        if not self.vazio():\n",
    "            nome =  self.farmacia.popleft()\n",
    "            print(f\"{nome} foi atendida(o)\")\n",
    "        else:\n",
    "            print(\"A(O) atendente está livre.\")\n",
    "\n",
    "    def tamanho(self):\n",
    "        if len(self.farmacia)==0:\n",
    "            print(\"A fileira está vazia\")\n",
    "        else:\n",
    "            print(f\"Tem {len(self.farmacia)} pessoas na fila\")"
   ]
  },
  {
   "cell_type": "code",
   "execution_count": 5,
   "metadata": {},
   "outputs": [
    {
     "name": "stdout",
     "output_type": "stream",
     "text": [
      "Baizhou está na fila\n",
      "Qiqi está na fila\n",
      "Zhongli está na fila\n",
      "Hutao está na fila\n",
      "Xinyan está na fila\n",
      "Baizhou foi atendida(o)\n",
      "Qiqi foi atendida(o)\n",
      "Zhongli foi atendida(o)\n",
      "Tem 2 pessoas na fila\n"
     ]
    }
   ],
   "source": [
    "fila = Farmacia()\n",
    "fila.aguardar('Baizhou')\n",
    "fila.aguardar('Qiqi')\n",
    "fila.aguardar('Zhongli')\n",
    "fila.aguardar('Hutao')\n",
    "fila.aguardar('Xinyan')\n",
    "fila.atender()\n",
    "fila.atender()\n",
    "fila.atender()\n",
    "fila.vazio()\n",
    "fila.tamanho()"
   ]
  },
  {
   "cell_type": "markdown",
   "metadata": {},
   "source": [
    "## Pilha (LIFO)"
   ]
  },
  {
   "cell_type": "code",
   "execution_count": 6,
   "metadata": {},
   "outputs": [],
   "source": [
    "class Editor:\n",
    "    def __init__(self):\n",
    "        self.texto = \"\"\n",
    "        self.historico = []\n",
    "\n",
    "    def escrever(self,texto):\n",
    "        self.historico.append(self.texto)\n",
    "        self.texto += texto + ' '\n",
    "\n",
    "    def desfazer(self):\n",
    "        if self.historico:\n",
    "            self.texto = self.historico.pop()\n",
    "        else:\n",
    "            self.texto = \"\"\n",
    "\n",
    "    def vizualizar(self):\n",
    "        print(self.texto)"
   ]
  },
  {
   "cell_type": "markdown",
   "metadata": {},
   "source": [
    "## Atividade 3"
   ]
  },
  {
   "cell_type": "markdown",
   "metadata": {},
   "source": [
    "> Em um editor Yago escreve primeiro \"Olá\", depois \"mundo!\" e por último \"Por:\" e \"Yago.\"; Depois disso ele exibiu o texto editado. Logo após decidiu remover \"Por: Yago.\". Faça um algoritmo que realize o passo-a-passo de Yago."
   ]
  },
  {
   "cell_type": "code",
   "execution_count": 9,
   "metadata": {},
   "outputs": [
    {
     "name": "stdout",
     "output_type": "stream",
     "text": [
      "Olá  mundo!  Por:  Yago \n",
      "Olá  mundo! \n"
     ]
    }
   ],
   "source": [
    "editor = Editor()\n",
    "editor.escrever('Olá')\n",
    "editor.escrever(' mundo!')\n",
    "editor.escrever(' Por:')\n",
    "editor.escrever(' Yago')\n",
    "editor.vizualizar()\n",
    "editor.desfazer()\n",
    "editor.desfazer()\n",
    "editor.vizualizar()"
   ]
  }
 ],
 "metadata": {
  "kernelspec": {
   "display_name": "Python 3",
   "language": "python",
   "name": "python3"
  },
  "language_info": {
   "codemirror_mode": {
    "name": "ipython",
    "version": 3
   },
   "file_extension": ".py",
   "mimetype": "text/x-python",
   "name": "python",
   "nbconvert_exporter": "python",
   "pygments_lexer": "ipython3",
   "version": "3.11.9"
  }
 },
 "nbformat": 4,
 "nbformat_minor": 2
}
