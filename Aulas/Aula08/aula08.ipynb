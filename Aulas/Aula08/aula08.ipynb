{
 "cells": [
  {
   "cell_type": "markdown",
   "metadata": {},
   "source": [
    "# Aula08 - Introdução a Estrutura de Dados"
   ]
  },
  {
   "cell_type": "markdown",
   "metadata": {},
   "source": [
    "## Fila (FIFO)"
   ]
  },
  {
   "cell_type": "code",
   "execution_count": 32,
   "metadata": {},
   "outputs": [],
   "source": [
    "class Fila:\n",
    "    def __init__(self):\n",
    "        #Atributo 'fila' é uma lista vazia\n",
    "        self.fila =[]\n",
    "    \n",
    "    def enfileirar(self, item):\n",
    "        # #Adiciona o 'item' como atributo do 'fila'\n",
    "        self.fila.append(item)\n",
    "        print(f'{item} chegou no caixa')\n",
    "    \n",
    "    def vazio(self):\n",
    "        #Retorno True se o comprimento da lista for vazio e False caso acontrário\n",
    "        return len(self.fila) == 0\n",
    "    \n",
    "    def desinfileirar(self):\n",
    "        if not self.vazio():\n",
    "            #Remove com o método pop, o primeiro item da lista 'fila'\n",
    "            item = self.fila.pop(0)\n",
    "            print(f'{item} foi atendido no caixa')\n",
    "            return item\n",
    "        else:\n",
    "            print('A fila está vazia')\n",
    "            return None\n",
    "        \n",
    "    def tamanho(self):\n",
    "        if len(self.fila)==0:\n",
    "            print('O caixa está livre')\n",
    "        else:\n",
    "            print(f'len{(self.fila)} Há somente essas pessoas na fila')\n"
   ]
  },
  {
   "cell_type": "markdown",
   "metadata": {},
   "source": [
    "## Atividade 1"
   ]
  },
  {
   "cell_type": "markdown",
   "metadata": {},
   "source": [
    "> Joãzinho está no mercado entre Vó Maria e Caique que chegou logo atrás para ir ao caixa. Tendo como fila à estrutura de dados. Adicione os três a essa fila nessa ordem e atenda a Vó Maria, e depois mostre o tamanho da dela"
   ]
  },
  {
   "cell_type": "code",
   "execution_count": 33,
   "metadata": {},
   "outputs": [
    {
     "name": "stdout",
     "output_type": "stream",
     "text": [
      "Vó Maria chegou no caixa\n",
      "Caique chegou no caixa\n",
      "Joãozinho chegou no caixa\n",
      "Vó Maria foi atendido no caixa\n",
      "len['Caique', 'Joãozinho'] Há somente essas pessoas na fila\n"
     ]
    }
   ],
   "source": [
    "fila = Fila()\n",
    "fila.enfileirar('Vó Maria')\n",
    "fila.enfileirar('Caique')\n",
    "fila.enfileirar('Joãozinho')\n",
    "fila.desinfileirar()\n",
    "fila.tamanho()"
   ]
  },
  {
   "cell_type": "code",
   "execution_count": 34,
   "metadata": {},
   "outputs": [
    {
     "name": "stdout",
     "output_type": "stream",
     "text": [
      "Vó Maria chegou no caixa\n",
      "Vó Maria foi atendido no caixa\n",
      "O caixa está livre\n"
     ]
    }
   ],
   "source": [
    "fila = Fila()\n",
    "fila.enfileirar('Vó Maria')\n",
    "fila.desinfileirar()\n",
    "fila.tamanho()"
   ]
  }
 ],
 "metadata": {
  "kernelspec": {
   "display_name": "Python 3",
   "language": "python",
   "name": "python3"
  },
  "language_info": {
   "codemirror_mode": {
    "name": "ipython",
    "version": 3
   },
   "file_extension": ".py",
   "mimetype": "text/x-python",
   "name": "python",
   "nbconvert_exporter": "python",
   "pygments_lexer": "ipython3",
   "version": "3.12.2"
  }
 },
 "nbformat": 4,
 "nbformat_minor": 2
}
