{
 "cells": [
  {
   "cell_type": "markdown",
   "metadata": {},
   "source": [
    "# Introdução a Tabalas Hash"
   ]
  },
  {
   "cell_type": "markdown",
   "metadata": {},
   "source": [
    "> As Tabelas Hash são estruturas de dados comum para localização de grandes quantidades de dados. Devido sua eficiência na busca, inserção e remoção de elementos utiliza a indexação dos dados como nos dicionários já vistos em aula."
   ]
  },
  {
   "cell_type": "markdown",
   "metadata": {},
   "source": [
    "Aplicações:\n",
    "1. Banco de Dados \n",
    "2. Cache de memória\n",
    "3. Compiladores\n",
    "4. Algoritmos de busca\n",
    "5. Big Data"
   ]
  },
  {
   "cell_type": "code",
   "execution_count": 11,
   "metadata": {},
   "outputs": [
    {
     "name": "stdout",
     "output_type": "stream",
     "text": [
      "Alice no País das Maravilhas\n",
      "Marcelino Pão e Vinho\n",
      "O Código Da Vinci\n"
     ]
    }
   ],
   "source": [
    "class HashTable:\n",
    "    # Construtor da tabela Hash\n",
    "    def __init__(self, size=10):\n",
    "        self.size = size;                                             # Função -> Método \n",
    "        self.table = [[] for _ in range(self.size)]                   # Váriável -> Atributo\n",
    "\n",
    "    # Método que calcula o índice da tabela através da chave\n",
    "    def hash(self, key):\n",
    "        return hash(key) % self.size  # self é para indicar (self.n = n+n)\n",
    "    \n",
    "    # Método que insere um valor através da sua chave\n",
    "    def insert(self, key, value):\n",
    "        index = self.hash(key)\n",
    "        for y in self.table[index]:\n",
    "            if y[0] in self.table[index]:\n",
    "                if y[0] == key:\n",
    "                    y[1] = value\n",
    "                    return\n",
    "        self.table[index].append([key, value])\n",
    "\n",
    "    # Método que remove o valor através da sua chave\n",
    "    def remove(self, key):\n",
    "        index = self.hash(key)\n",
    "        for i, y in enumerate(self.table[index]):\n",
    "            if y[0] == key:\n",
    "             del self.table[index][i]\n",
    "             return True\n",
    "        return False\n",
    "\n",
    "    # Método de busca de valor através da sua chave\n",
    "    def get(self, key):\n",
    "        index = self.hash(key)\n",
    "        for y in self.table[index]:\n",
    "            if y[0] == key:\n",
    "                return y[1]\n",
    "        return None\n",
    "\n",
    "if __name__ == \"__main__\":\n",
    "        biblioteca = HashTable()\n",
    "        biblioteca.insert(\"A\", \"Alice no País das Maravilhas\")\n",
    "        biblioteca.insert(\"M\", \"Marcelino Pão e Vinho\")\n",
    "        biblioteca.insert(\"O\", \"O Código Da Vinci\")\n",
    "        \n",
    "        print(biblioteca.get(\"A\"))\n",
    "        print(biblioteca.get(\"M\"))\n",
    "        print(biblioteca.get(\"O\"))"
   ]
  },
  {
   "cell_type": "markdown",
   "metadata": {},
   "source": [
    "## Exercício\n",
    "Crie uma pratilheira de mercado onde será organizado os produtos por numeração e o nome onde:\n",
    "\n",
    "0. Frios\n",
    "1. Limpeza\n",
    "2. Vegetais\n",
    "3. Cereais\n",
    "4. Bebidas\n",
    "5. Padaria\n",
    "6. Laticínios\n",
    "7. Açougue\n",
    "8. Hortaliças\n",
    "9. Bebidas Alcólicas\n",
    "\n",
    "Aplique uma tabela Hash para criar o mercadinho"
   ]
  },
  {
   "cell_type": "code",
   "execution_count": 17,
   "metadata": {},
   "outputs": [
    {
     "name": "stdout",
     "output_type": "stream",
     "text": [
      "Presunto\n",
      "Desengordurante Veja\n",
      "Batata\n",
      "Aveia\n",
      "Suco de Uva\n",
      "Pão\n",
      "Leite\n",
      "Coxa de Frango\n",
      "Alface\n",
      "Draft\n"
     ]
    }
   ],
   "source": [
    "class mercadinho:\n",
    "    def __init__(self, size=10):\n",
    "        self.size = size;\n",
    "        self.table = [[] for _ in range(self.size)]\n",
    "\n",
    "    def hash(self, key):\n",
    "        return hash(key) % self.size\n",
    "    \n",
    "    def insert(self, key, value):\n",
    "        index = self.hash(key)\n",
    "        for y in self.table[index]:\n",
    "            if y[0] == key:\n",
    "                y[1] = value\n",
    "                return\n",
    "        self.table[index].append([key, value])\n",
    "\n",
    "    def remove(self, key):\n",
    "        index = self.hash(key)\n",
    "        for i, y in enumerate(self.table[index]):\n",
    "            if y[0] == key:\n",
    "             del self.table[index][i]\n",
    "             return True\n",
    "        return False\n",
    "\n",
    "    def get(self, key):\n",
    "        index = self.hash(key)\n",
    "        for y in self.table[index]:\n",
    "            if y[0] == key:\n",
    "                return y[1]\n",
    "        return None\n",
    "        \n",
    "if __name__ == \"__main__\":\n",
    "    prateleira = mercadinho()\n",
    "    prateleira.insert(\"0.\", \"Presunto\")\n",
    "    prateleira.insert(\"1.\", \"Desengordurante Veja\")\n",
    "    prateleira.insert(\"2.\", \"Batata\")\n",
    "    prateleira.insert(\"3.\", \"Aveia\")\n",
    "    prateleira.insert(\"4.\", \"Suco de Uva\")\n",
    "    prateleira.insert(\"5.\", \"Pão\")\n",
    "    prateleira.insert(\"6.\", \"Leite\")\n",
    "    prateleira.insert(\"7.\", \"Coxa de Frango\")\n",
    "    prateleira.insert(\"8.\", \"Alface\")\n",
    "    prateleira.insert(\"9.\", \"Draft\")      \n",
    "    \n",
    "    print(prateleira.get(\"0.\"))\n",
    "    print(prateleira.get(\"1.\"))\n",
    "    print(prateleira.get(\"2.\"))\n",
    "    print(prateleira.get(\"3.\"))\n",
    "    print(prateleira.get(\"4.\"))\n",
    "    print(prateleira.get(\"5.\"))\n",
    "    print(prateleira.get(\"6.\"))\n",
    "    print(prateleira.get(\"7.\"))\n",
    "    print(prateleira.get(\"8.\"))\n",
    "    print(prateleira.get(\"9.\"))\n",
    "\n",
    "    \n",
    "        "
   ]
  }
 ],
 "metadata": {
  "kernelspec": {
   "display_name": "Python 3",
   "language": "python",
   "name": "python3"
  },
  "language_info": {
   "codemirror_mode": {
    "name": "ipython",
    "version": 3
   },
   "file_extension": ".py",
   "mimetype": "text/x-python",
   "name": "python",
   "nbconvert_exporter": "python",
   "pygments_lexer": "ipython3",
   "version": "3.11.9"
  }
 },
 "nbformat": 4,
 "nbformat_minor": 2
}
