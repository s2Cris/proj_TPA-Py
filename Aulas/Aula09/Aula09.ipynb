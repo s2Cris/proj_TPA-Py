{
 "cells": [
  {
   "cell_type": "markdown",
   "metadata": {},
   "source": [
    "# Introdução a Tabalas Hash"
   ]
  },
  {
   "cell_type": "markdown",
   "metadata": {},
   "source": [
    "> As Tabelas Hash são estruturas de dados comum para localização de grandes quantidades de dados. Devido sua eficiência na busca, inserção e remoção de elementos utiliza a indexação dos dados como nos dicionários já vistos em aula."
   ]
  },
  {
   "cell_type": "markdown",
   "metadata": {},
   "source": [
    "Aplicações:\n",
    "1. Banco de Dados \n",
    "2. Cache de memória\n",
    "3. Compiladores\n",
    "4. Algoritmos de busca\n",
    "5. Big Data"
   ]
  },
  {
   "cell_type": "code",
   "execution_count": 30,
   "metadata": {},
   "outputs": [
    {
     "name": "stdout",
     "output_type": "stream",
     "text": [
      "Alice no País das Maravilhas\n",
      "None\n",
      "Alice no País das Maravilhas\n"
     ]
    }
   ],
   "source": [
    "class HashTable:\n",
    "    # Construtor da tabela Hash\n",
    "    def __init__(self, size=10):\n",
    "        self.size = size;                                             # Função -> Método \n",
    "        self.table = [[] for _ in range(self.size)]                   # Váriável -> Atributo\n",
    "\n",
    "    # Método que calcula o índice da tabela através da chave\n",
    "    def hash(self, key):\n",
    "        return hash(key) % self.size  # self é para indicar (self.n = n+n)\n",
    "    \n",
    "    # Método que insere um valor através da sua chave\n",
    "    def insert(self, key, value):\n",
    "        index = self.hash(key)\n",
    "        for y in self.table[index]:\n",
    "            if y[0] in self.table[index]:\n",
    "                if y[0] == key:\n",
    "                    y[1] = value\n",
    "                    return\n",
    "        self.table[index].append([key, value])\n",
    "\n",
    "    # Método que remove o valor através da sua chave\n",
    "    def remove(self,key):\n",
    "        index = self.hash(key)\n",
    "        for y in self.table[index]:\n",
    "            if y[0] == key:\n",
    "                return None\n",
    "\n",
    "    # Método de busca de valor através da sua chave\n",
    "    def get(self, key):\n",
    "        index = self.hash(key)\n",
    "        for y in self.table[index]:\n",
    "            if y[0] == key:\n",
    "                return y[1]\n",
    "            return None\n",
    "\n",
    "if __name__ == \"__main__\":\n",
    "        biblioteca = HashTable()\n",
    "        biblioteca.insert(\"A\", \"Alice no País das Maravilhas\")\n",
    "        biblioteca.insert(\"M\", \"Marcelino Pão e Vinho\")\n",
    "        biblioteca.insert(\"O\", \"O Código Da Vinci\")\n",
    "        \n",
    "        print(biblioteca.get(\"A\"))\n",
    "        print(biblioteca.get(\"B\"))\n",
    "\n",
    "        biblioteca.remove(\"A\")\n",
    "        print(biblioteca.get(\"A\"))"
   ]
  },
  {
   "cell_type": "markdown",
   "metadata": {},
   "source": [
    "## Exercício\n",
    "Crie uma pratilheira de mercado onde será organizado os produtos por numeração e o nome onde:\n",
    "\n",
    "0. Frios\n",
    "1. Limpeza\n",
    "2. Vegetais\n",
    "3. Cereais\n",
    "4. Bebidas\n",
    "5. Padaria\n",
    "6. Laticínios\n",
    "7. Açougue\n",
    "8. Hortaliças\n",
    "9. Bebidas Alcólicas\n",
    "\n",
    "Aplique uma tabela Hash para criar o mercadinho"
   ]
  },
  {
   "cell_type": "code",
   "execution_count": null,
   "metadata": {},
   "outputs": [],
   "source": [
    "class HashTable:\n",
    "    def __init__(self, size=10):\n",
    "        self.size = size;\n",
    "        self.table = [[] for _ in range(self.size)]"
   ]
  }
 ],
 "metadata": {
  "kernelspec": {
   "display_name": "Python 3",
   "language": "python",
   "name": "python3"
  },
  "language_info": {
   "codemirror_mode": {
    "name": "ipython",
    "version": 3
   },
   "file_extension": ".py",
   "mimetype": "text/x-python",
   "name": "python",
   "nbconvert_exporter": "python",
   "pygments_lexer": "ipython3",
   "version": "3.12.2"
  }
 },
 "nbformat": 4,
 "nbformat_minor": 2
}
