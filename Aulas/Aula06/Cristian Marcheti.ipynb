{
 "cells": [
  {
   "cell_type": "markdown",
   "metadata": {},
   "source": [
    "# Introdução a Tuplas e Dicionários"
   ]
  },
  {
   "cell_type": "markdown",
   "metadata": {},
   "source": [
    "## Introdução a Tuplas\n"
   ]
  },
  {
   "cell_type": "code",
   "execution_count": 3,
   "metadata": {},
   "outputs": [
    {
     "data": {
      "text/plain": [
       "8"
      ]
     },
     "execution_count": 3,
     "metadata": {},
     "output_type": "execute_result"
    }
   ],
   "source": [
    "tupla = (6,8,9)\n",
    "tupla[1]"
   ]
  },
  {
   "cell_type": "markdown",
   "metadata": {},
   "source": [
    "## Introdução a Dicionários"
   ]
  },
  {
   "cell_type": "code",
   "execution_count": 4,
   "metadata": {},
   "outputs": [
    {
     "name": "stdout",
     "output_type": "stream",
     "text": [
      "Desenvolvimento de Sistemas\n",
      "2024\n",
      "Técnicas de Programação e Algoritmos\n",
      "Gustavo\n"
     ]
    }
   ],
   "source": [
    "dicionario = {\n",
    "    'curso':'Desenvolvimento de Sistemas',\n",
    "    'ano': 2024,\n",
    "    'modulo': 'Técnicas de Programação e Algoritmos',\n",
    "    'professor': 'Gustavo'\n",
    "}\n",
    "\n",
    "print(dicionario['curso'])\n",
    "print(dicionario['ano'])\n",
    "print(dicionario['modulo'])\n",
    "print(dicionario['professor'])"
   ]
  },
  {
   "cell_type": "code",
   "execution_count": 5,
   "metadata": {},
   "outputs": [
    {
     "name": "stdout",
     "output_type": "stream",
     "text": [
      "9.5\n"
     ]
    }
   ],
   "source": [
    "dicionario['nota'] = 9.5\n",
    "print(dicionario['nota'])"
   ]
  },
  {
   "cell_type": "code",
   "execution_count": 6,
   "metadata": {},
   "outputs": [
    {
     "name": "stdout",
     "output_type": "stream",
     "text": [
      "Desenvolvimento de Sistemas\n",
      "2024\n",
      "Técnicas de Programação e Algoritmos\n",
      "Gustavo\n",
      "9.5\n",
      "\n",
      "\n",
      "curso\n",
      "ano\n",
      "modulo\n",
      "professor\n",
      "nota\n"
     ]
    }
   ],
   "source": [
    "for i in dicionario.values():\n",
    "    print(i)\n",
    "print(\"\\n\")\n",
    "\n",
    "for i in dicionario.keys():\n",
    "    print(i)"
   ]
  },
  {
   "cell_type": "code",
   "execution_count": 9,
   "metadata": {},
   "outputs": [
    {
     "name": "stdout",
     "output_type": "stream",
     "text": [
      "dict_keys(['curso', 'ano', 'modulo', 'professor', 'nota'])\n",
      "dict_values(['Desenvolvimento de Sistemas', 2024, 'Técnicas de Programação e Algoritmos', 'Gustavo', 9.5])\n"
     ]
    }
   ],
   "source": [
    "print(dicionario.keys())\n",
    "print(dicionario.values())"
   ]
  },
  {
   "cell_type": "code",
   "execution_count": 10,
   "metadata": {},
   "outputs": [
    {
     "name": "stdout",
     "output_type": "stream",
     "text": [
      "{}\n"
     ]
    }
   ],
   "source": [
    "dicionario.clear()\n",
    "print(dicionario)"
   ]
  },
  {
   "cell_type": "markdown",
   "metadata": {},
   "source": [
    "## Exercício 1\n",
    "> Crie 3 dicionários: Matricula, Aluno e Disciplina. A matricula terá código da matricula, data_inscrição e curso; O aluno terá registro e nome; A disciplina terá registro e professor. Ao final adicione os três dicionários em uma tupla chamada escola"
   ]
  },
  {
   "cell_type": "code",
   "execution_count": 1,
   "metadata": {},
   "outputs": [
    {
     "name": "stdout",
     "output_type": "stream",
     "text": [
      "{'codigo': 1109, 'data_inscrição': '01/02/24', 'curso': 'D.S.'}\n",
      "{'registro': 240065, 'nome': 'Cristian'}\n",
      "{'registro': 777, 'nome': 'TPA', 'professor': 'Gustavo'}\n"
     ]
    }
   ],
   "source": [
    "matricula = {\n",
    "    'codigo': 1109,\n",
    "    'data_inscrição': '01/02/24',\n",
    "    'curso': 'D.S.'\n",
    "}\n",
    "aluno = {\n",
    "    'registro': 240065,\n",
    "    'nome': 'Cristian'\n",
    "}\n",
    "disciplina = {\n",
    "    'registro': 777,\n",
    "    'nome': 'TPA',\n",
    "    'professor': 'Gustavo'\n",
    "}\n",
    "escola = (matricula, aluno, disciplina)\n",
    "\n",
    "for x in escola:\n",
    "    print(x)"
   ]
  },
  {
   "cell_type": "markdown",
   "metadata": {},
   "source": [
    "## Exercício 2\n",
    "> Crie três dicionários para as seguintes tabelas: vendedor, produto e venda. O vendedor terá registro, nome e admissão; o produo terá o ID, nome, fabricante; A venda terá reg_vendedor, id_produto e valor. Após a criação dos dicionários, adicione a uma tupla chamada casas_baiano."
   ]
  },
  {
   "cell_type": "code",
   "execution_count": 2,
   "metadata": {},
   "outputs": [
    {
     "name": "stdout",
     "output_type": "stream",
     "text": [
      "{'registro': 323, 'nome': 'P. Diddy', 'admissão': '25/06/2009'}\n",
      "{'ID': 30, 'nome': 'Óleo de bebê', 'fabricante': 'Pd'}\n",
      "{'reg_vendedor': 'MJLEA', 'id_produto': 54, 'valor': 10.99}\n"
     ]
    }
   ],
   "source": [
    "vendedor = {\n",
    "    'registro': 323,\n",
    "    'nome': 'P. Diddy',\n",
    "    'admissão': '25/06/2009'\n",
    "}\n",
    "produto = {\n",
    "    'ID': 30,\n",
    "    'nome': 'Óleo de bebê',\n",
    "    'fabricante': 'Hollywood'\n",
    "}\n",
    "venda = {\n",
    "    'reg_vendedor': 'MJLEA',\n",
    "    'id_produto': 54,\n",
    "    'valor': 10.99\n",
    "}\n",
    "\n",
    "casas_baiano = (vendedor, produto, venda)\n",
    "\n",
    "for x in casas_baiano:\n",
    "    print(x)"
   ]
  }
 ],
 "metadata": {
  "kernelspec": {
   "display_name": "Python 3",
   "language": "python",
   "name": "python3"
  },
  "language_info": {
   "codemirror_mode": {
    "name": "ipython",
    "version": 3
   },
   "file_extension": ".py",
   "mimetype": "text/x-python",
   "name": "python",
   "nbconvert_exporter": "python",
   "pygments_lexer": "ipython3",
   "version": "3.11.9"
  }
 },
 "nbformat": 4,
 "nbformat_minor": 2
}
