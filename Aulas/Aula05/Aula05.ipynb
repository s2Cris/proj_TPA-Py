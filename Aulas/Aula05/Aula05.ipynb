{
 "cells": [
  {
   "cell_type": "markdown",
   "metadata": {},
   "source": [
    "# Aula 05 - Introdução ao List Comprehensin e Format"
   ]
  },
  {
   "cell_type": "markdown",
   "metadata": {},
   "source": [
    "#### Nessa aula iremos dar introdução ao list comprehensio, uma forma mais simples de realizar conversões de valores entreduas ou mais listas. Atualmente é uma das formas mais rápidas de aplicar conversões, substituindo as declarações mais extensas do que o método convencional, lambda e o map"
   ]
  },
  {
   "cell_type": "markdown",
   "metadata": {},
   "source": [
    "## Exemplo 1 - Conversão de Celsius para Fahrenheit"
   ]
  },
  {
   "cell_type": "code",
   "execution_count": 1,
   "metadata": {},
   "outputs": [
    {
     "name": "stdout",
     "output_type": "stream",
     "text": [
      "[50.0, 68.0, 75.2, 95.0, 122.0]\n"
     ]
    }
   ],
   "source": [
    "celsius = [10,20,24,35,50]\n",
    "fahrenheit = [round(x*1.8+32,2) for x in celsius]\n",
    "print(fahrenheit)\n"
   ]
  },
  {
   "cell_type": "markdown",
   "metadata": {},
   "source": [
    "## Exemplo 2 - Conversão de Kmh para Mph"
   ]
  },
  {
   "cell_type": "code",
   "execution_count": 12,
   "metadata": {},
   "outputs": [
    {
     "name": "stdout",
     "output_type": "stream",
     "text": [
      "A conversão ficou [62.11, 15.53, 43.48, 49.69, 62.11]\n"
     ]
    }
   ],
   "source": [
    "kmh = [100, 25, 70, 80, 100]\n",
    "mph = [round(x/1.61,2) for x in kmh]\n",
    "print(f\"A conversão ficou {mph}\")"
   ]
  },
  {
   "cell_type": "code",
   "execution_count": 20,
   "metadata": {},
   "outputs": [
    {
     "name": "stdout",
     "output_type": "stream",
     "text": [
      "Kmh    Mph  \n",
      "============\n",
      "100   62.11 \n",
      "25    15.53 \n",
      "70    43.48 \n",
      "80    49.69 \n",
      "100   62.11 \n"
     ]
    }
   ],
   "source": [
    "print(\"{:<6}{:<6}\".format(\"Kmh \",\" Mph\"))\n",
    "print(\"============\")\n",
    "x = 0\n",
    "while (x<len (kmh)):\n",
    "    print(\"{:<6}{:<6}\".format(kmh [x] ,mph [x] ))\n",
    "   x += 1"
   ]
  },
  {
   "cell_type": "code",
   "execution_count": 25,
   "metadata": {},
   "outputs": [
    {
     "name": "stdout",
     "output_type": "stream",
     "text": [
      "Celsius  Fahrenheit\n",
      "=======|===========\n",
      "10      50.0      \n",
      "20      68.0      \n",
      "24      75.2      \n",
      "35      95.0      \n",
      "50      122.0     \n"
     ]
    }
   ],
   "source": [
    "celsius = [10,20,24,35,50]\n",
    "fahrenheit = [round(x*1.8+32,2) for x in celsius]\n",
    "\n",
    "x=0\n",
    "\n",
    "print(\"{:<8}{:<10}\".format(\"Celsius\" , \" Fahrenheit\"))\n",
    "print(\"=======|===========\")\n",
    "\n",
    "while(x<len (celsius)):\n",
    "    print(\"{:<8}{:<10}\".format(celsius [x] , fahrenheit [x]))\n",
    "    x += 1"
   ]
  },
  {
   "cell_type": "markdown",
   "metadata": {},
   "source": [
    "### Exercício 1"
   ]
  },
  {
   "cell_type": "markdown",
   "metadata": {},
   "source": [
    "#### Crie uma lista com 10 valores em metros. Crie uma tabela de conversão para polegadas, pés, jardas e mílhas marítimas. Listando o número da linha e o cabeçalho da tabela."
   ]
  },
  {
   "cell_type": "code",
   "execution_count": 104,
   "metadata": {},
   "outputs": [
    {
     "name": "stdout",
     "output_type": "stream",
     "text": [
      "Nº da Linha Metros   Polegadas       Pés      Jardas     Milhas Marítimas  \n",
      "===========|======|==============|=========|==========|====================|\n",
      "0             4       157.48        13.12       4            0.002           \n",
      "1             7       275.59        22.96       8            0.004           \n",
      "2             24      944.88        78.72       26           0.015           \n",
      "3             69      2716.53       226.32      75           0.043           \n",
      "4             79      3110.23       259.12      86           0.049           \n",
      "5             101     3976.37       331.28      110          0.063           \n",
      "6             110     4330.7        360.8       120          0.068           \n",
      "7             124     4881.88       406.72      135          0.077           \n",
      "8             169     6653.53       554.32      184          0.105           \n",
      "9             777     30590.49      2548.56     847          0.483           \n"
     ]
    }
   ],
   "source": [
    "metros = [4,7,24,69,79,101,110,124,169,777]\n",
    "polegadas = [round(x*39.37,2) for x in metros]\n",
    "pes = [round(x*3.28,2) for x in metros]\n",
    "jardas = [round(x*1.09) for x in metros]\n",
    "milhas_maritimas = [round((x*0.6214)/1000,3) for x in metros]\n",
    "\n",
    "x=0\n",
    "y=0\n",
    "\n",
    "print(\"{:<11}{:<6}{:<9}{:<3}{:<6}{:<16}\".format(\"Nº da Linha\", \" Metros\" , \"   Polegadas    \" , \"   Pés    \" , \"  Jardas  \" , \"   Milhas Marítimas  \"))\n",
    "print(\"===========|======|==============|=========|==========|====================|\")\n",
    "\n",
    "while(x<len (metros)):\n",
    "    print(\"{:<14}{:<8}{:<14}{:<12}{:<13}{:<16}\".format(y, metros[x] , polegadas[x], pes[x] , jardas[x] , milhas_maritimas[x]))\n",
    "    x += 1\n",
    "    y += 1 "
   ]
  },
  {
   "cell_type": "markdown",
   "metadata": {},
   "source": [
    "## Exercício 2"
   ]
  },
  {
   "cell_type": "markdown",
   "metadata": {},
   "source": [
    "#### Crie uma lista com 10 valores em Kelvin. Crie uma tabela de conversão para celcius e fahrenheit, listando o número da linha e o cabeçalho da tabela."
   ]
  },
  {
   "cell_type": "code",
   "execution_count": 114,
   "metadata": {},
   "outputs": [
    {
     "name": "stdout",
     "output_type": "stream",
     "text": [
      "Nº    Kelvin  Celsius   Fahrenheit\n",
      "===|========|=========|==========|\n",
      "1      4        -269     -452.2\n",
      "2      7        -266     -446.8\n",
      "3      24       -249     -416.2\n",
      "4      69       -204     -335.2\n",
      "5      79       -194     -317.2\n",
      "6      101      -172     -277.6\n",
      "7      110      -163     -261.4\n",
      "8      124      -149     -236.2\n",
      "9      169      -104     -155.2\n",
      "10     777      504      939.2\n"
     ]
    }
   ],
   "source": [
    "kelvin = [4,7,24,69,79,101,110,124,169,777]\n",
    "celsius = [round(x-273,2) for x in kelvin]\n",
    "fahren = [round(((x-273)*1.8)+32,2) for x in kelvin]\n",
    "\n",
    "x=0\n",
    "y=0\n",
    "\n",
    "print(\"{:<6}{:<7}{:<10}{}\".format(\"Nº\", \"Kelvin  \" , \"Celsius  \" , \"Fahrenheit\"))\n",
    "print(\"===|========|=========|==========|\")\n",
    "\n",
    "while(x<len (kelvin)):\n",
    "    y += 1\n",
    "    print(\"{:<7}{:<9}{:<9}{}\".format(y, kelvin[x] , celsius[x], fahren[x]))\n",
    "    x += 1"
   ]
  },
  {
   "cell_type": "markdown",
   "metadata": {},
   "source": [
    "## Exercício 3"
   ]
  },
  {
   "cell_type": "markdown",
   "metadata": {},
   "source": [
    "#### Crie uma lista com 10 pesos em kilos. Faça a conversão para o peso na Terra, Lua, Júpiter, Saturno e Mercúrio. Monte uma tabela com o cabeçalho e a numeração conforme os exercícios passados."
   ]
  },
  {
   "cell_type": "code",
   "execution_count": null,
   "metadata": {},
   "outputs": [],
   "source": [
    "kelvin = [4,7,24,69,79,101,110,124,169,777]"
   ]
  }
 ],
 "metadata": {
  "kernelspec": {
   "display_name": "Python 3",
   "language": "python",
   "name": "python3"
  },
  "language_info": {
   "codemirror_mode": {
    "name": "ipython",
    "version": 3
   },
   "file_extension": ".py",
   "mimetype": "text/x-python",
   "name": "python",
   "nbconvert_exporter": "python",
   "pygments_lexer": "ipython3",
   "version": "3.12.2"
  }
 },
 "nbformat": 4,
 "nbformat_minor": 2
}
